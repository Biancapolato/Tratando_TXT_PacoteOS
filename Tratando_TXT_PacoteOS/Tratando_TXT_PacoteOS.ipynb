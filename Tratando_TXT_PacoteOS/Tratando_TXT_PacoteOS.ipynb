{
 "cells": [
  {
   "cell_type": "code",
   "execution_count": 14,
   "id": "a8def746",
   "metadata": {},
   "outputs": [],
   "source": [
    "texto = \"Engenheiro de Dados pode ser uma excelente alternativa de carreira.\\n\"\n",
    "texto = texto + \"Esses proficionais precisam saber como programar em Python.\\n\"\n",
    "texto += \"E, claro devem ser proficientes em Data Science.\""
   ]
  },
  {
   "cell_type": "code",
   "execution_count": 15,
   "id": "c68fdd62",
   "metadata": {},
   "outputs": [
    {
     "name": "stdout",
     "output_type": "stream",
     "text": [
      "Engenheiro de Dados pode ser uma excelente alternativa de carreira.\n",
      "Esses proficionais precisam saber como programar em Python.\n",
      "E, claro devem ser proficientes em Data Science.\n"
     ]
    }
   ],
   "source": [
    "print(texto)"
   ]
  },
  {
   "cell_type": "code",
   "execution_count": 16,
   "id": "fab3b120",
   "metadata": {},
   "outputs": [],
   "source": [
    "#importando módulo os\n",
    "import os"
   ]
  },
  {
   "cell_type": "code",
   "execution_count": 10,
   "id": "46d73c79",
   "metadata": {},
   "outputs": [],
   "source": [
    "arquivo = open(os.path.join('arquivos/cientista.txt'),'w')"
   ]
  },
  {
   "cell_type": "code",
   "execution_count": 11,
   "id": "610d22ad",
   "metadata": {},
   "outputs": [],
   "source": [
    "#Gravando dados no arquivo\n",
    "for palavra in texto.split():\n",
    "    arquivo.write(palavra + ' ')"
   ]
  },
  {
   "cell_type": "code",
   "execution_count": 12,
   "id": "e9fc289d",
   "metadata": {},
   "outputs": [],
   "source": [
    "#Fechando arquivo\n",
    "arquivo.close()"
   ]
  },
  {
   "cell_type": "code",
   "execution_count": 20,
   "id": "a827555a",
   "metadata": {},
   "outputs": [
    {
     "name": "stdout",
     "output_type": "stream",
     "text": [
      "Engenheiro de Dados pode ser uma excelente alternativa de carreira. Esses proficionais precisam saber como programar em Python. E, claro devem ser proficientes em Data Science. \n"
     ]
    }
   ],
   "source": [
    "#lendo arquivo\n",
    "arquivo = open('arquivos/cientista.txt', 'r')\n",
    "conteudo = arquivo.read()\n",
    "arquivo.close()\n",
    "print(conteudo)"
   ]
  }
 ],
 "metadata": {
  "kernelspec": {
   "display_name": "Python 3 (ipykernel)",
   "language": "python",
   "name": "python3"
  },
  "language_info": {
   "codemirror_mode": {
    "name": "ipython",
    "version": 3
   },
   "file_extension": ".py",
   "mimetype": "text/x-python",
   "name": "python",
   "nbconvert_exporter": "python",
   "pygments_lexer": "ipython3",
   "version": "3.9.13"
  }
 },
 "nbformat": 4,
 "nbformat_minor": 5
}
